{
  "nbformat": 4,
  "nbformat_minor": 0,
  "metadata": {
    "colab": {
      "provenance": [],
      "authorship_tag": "ABX9TyOfuAEZhzo3NxsU4K3y7O+P",
      "include_colab_link": true
    },
    "kernelspec": {
      "name": "python3",
      "display_name": "Python 3"
    },
    "language_info": {
      "name": "python"
    }
  },
  "cells": [
    {
      "cell_type": "markdown",
      "metadata": {
        "id": "view-in-github",
        "colab_type": "text"
      },
      "source": [
        "<a href=\"https://colab.research.google.com/github/Giggity14/AI-lab3-SandeshDhakal-021377/blob/main/KNN_Binary_Classification.ipynb\" target=\"_parent\"><img src=\"https://colab.research.google.com/assets/colab-badge.svg\" alt=\"Open In Colab\"/></a>"
      ]
    },
    {
      "cell_type": "code",
      "execution_count": 11,
      "metadata": {
        "colab": {
          "base_uri": "https://localhost:8080/"
        },
        "id": "a7cz-O4yL-6r",
        "outputId": "10b4d694-0207-41da-f075-d87a35ba9ff9"
      },
      "outputs": [
        {
          "output_type": "stream",
          "name": "stdout",
          "text": [
            "Accuracy: 1.0\n"
          ]
        }
      ],
      "source": [
        "import numpy as np\n",
        "from collections import Counter\n",
        "from sklearn.model_selection import train_test_split\n",
        "from sklearn.metrics import accuracy_score\n",
        "\n",
        "# Dataset\n",
        "data = np.array([\n",
        "    [165, 60, 1],\n",
        "    [170, 65, 1],\n",
        "    [160, 55, 0],\n",
        "    [175, 70, 1],\n",
        "    [155, 50, 0],\n",
        "    [168, 62, 1],\n",
        "    [162, 58, 0],\n",
        "    [172, 68, 1],\n",
        "    [158, 53, 0],\n",
        "    [167, 61, 1]\n",
        "])\n",
        "\n",
        "X = data[:, :2]\n",
        "y = data[:, 2]\n",
        "\n",
        "# Split dataset\n",
        "X_train, X_test, y_train, y_test = train_test_split(X, y, test_size=0.2, random_state=42)\n",
        "\n",
        "def euclidean_distance(a, b):\n",
        "    return np.sqrt(np.sum((a - b) ** 2))\n",
        "\n",
        "def knn_predict(X_train, y_train, x_test, k):\n",
        "    distances = [euclidean_distance(x_test, x_train) for x_train in X_train]\n",
        "    k_indices = np.argsort(distances)[:k]\n",
        "    k_nearest_labels = [y_train[i] for i in k_indices]\n",
        "    most_common = Counter(k_nearest_labels).most_common(1)\n",
        "    return most_common[0][0]\n",
        "\n",
        "# Test\n",
        "k = 3\n",
        "predictions = [knn_predict(X_train, y_train, x, k) for x in X_test]\n",
        "print(\"Accuracy:\", accuracy_score(y_test, predictions))"
      ]
    }
  ]
}